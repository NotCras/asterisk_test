{
 "cells": [
  {
   "cell_type": "code",
   "execution_count": 1,
   "metadata": {},
   "outputs": [
    {
     "name": "stdout",
     "output_type": "stream",
     "text": [
      "Ready to go!"
     ]
    }
   ],
   "source": [
    "using CSV, DataFrames, Statistics\n",
    "using PyPlot # plotting library\n",
    "using PyCall\n",
    "using Printf\n",
    "using FStrings\n",
    "using LaTeXStrings # for L\"$x$\" to work instead of needing to do \"\\$x\\$\"\n",
    "\n",
    "# check out all of the styles! https://matplotlib.org/3.1.1/gallery/style_sheets/style_sheets_reference.html\n",
    "PyPlot.matplotlib.style.use(\"seaborn-pastel\")\n",
    "\n",
    "# change settings for all plots at once, e.g. font size\n",
    "rcParams = PyPlot.PyDict(PyPlot.matplotlib.\"rcParams\")\n",
    "rcParams[\"font.size\"] = 16\n",
    "\n",
    "#make jupyter notebook print more dataframe columns\n",
    "ENV[\"COLUMNS\"]=160\n",
    "\n",
    "print(\"Ready to go!\")\n",
    "\n"
   ]
  },
  {
   "cell_type": "markdown",
   "metadata": {},
   "source": [
    "# Reading in the Data\n",
    "Now reading in the metrics data for 2v2."
   ]
  },
  {
   "cell_type": "code",
   "execution_count": null,
   "metadata": {},
   "outputs": [],
   "source": [
    "df_2v2 = CSV.read(\"2v2_metrics.csv\", DataFrame, copycols=true)\n",
    "first(df_2v2, 10)"
   ]
  },
  {
   "cell_type": "markdown",
   "metadata": {},
   "source": [
    "# Histograms of Metrics\n",
    "Now I will produce histogram plots of the metrics to see what kind of a distribution we get for all the trials.\n",
    "Shamelessly taken from my previous datascience course at: [link](https://github.com/SimonEnsemble/data_science_course)"
   ]
  },
  {
   "cell_type": "code",
   "execution_count": null,
   "metadata": {},
   "outputs": [],
   "source": [
    "metrics = [:arc_len, :area_btwn, :max_a_loc, :max_a_reg, :max_err, :mvt_eff, :r_fd, :t_fd]\n",
    "\n",
    "for m in metrics\n",
    "    figure()\n",
    "    hist(df_2v2[:, m]) # , normed=true)\n",
    "    scatter(df_2v2[:, m], [-1 for i = 1:nrow(df_2v2)], marker=\"+\", color=\"r\")\n",
    "    xlabel(f\"{m}\")\n",
    "    ylabel(\"# Trials\")\n",
    "    title(f\"Distribution of {m} Values\")\n",
    "end"
   ]
  },
  {
   "cell_type": "markdown",
   "metadata": {},
   "source": [
    "### Observations of Histogram Plots\n",
    "Based on what I see, here are the observations per metric (in order of appearance top to down):\n",
    "* **arc length**: mostly concentrated at low arc lengths\n",
    "* **max area region location**: mostly, the region of max error area is most commonly found at the end\n",
    "* **max area region**: at the locations of max error area, the area of error (aka the area between the path and the target line) is still relatively low\n",
    "* **max error**: values are distributed\n",
    "* **movement efficiency**: values are distributed\n",
    "* **rotational frechet distance**: aka max rotation error. Mostly low, but larger distribution at the low end\n",
    "* translational frechet distance: all values are very low"
   ]
  },
  {
   "cell_type": "markdown",
   "metadata": {},
   "source": [
    "# Metric Values by direction\n",
    "Plot all metric values in bar charts by direction"
   ]
  },
  {
   "cell_type": "code",
   "execution_count": null,
   "metadata": {},
   "outputs": [],
   "source": []
  }
 ],
 "metadata": {
  "kernelspec": {
   "display_name": "Julia 1.5.4",
   "language": "julia",
   "name": "julia-1.5"
  },
  "language_info": {
   "file_extension": ".jl",
   "mimetype": "application/julia",
   "name": "julia",
   "version": "1.5.4"
  }
 },
 "nbformat": 4,
 "nbformat_minor": 4
}
