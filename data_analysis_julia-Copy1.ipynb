{
 "cells": [
  {
   "cell_type": "code",
   "execution_count": 1,
   "metadata": {},
   "outputs": [
    {
     "name": "stdout",
     "output_type": "stream",
     "text": [
      "Ready to go!"
     ]
    }
   ],
   "source": [
    "using CSV, DataFrames, Statistics\n",
    "using PyPlot # plotting library\n",
    "using PyCall\n",
    "using Printf\n",
    "using FStrings\n",
    "using LaTeXStrings # for L\"$x$\" to work instead of needing to do \"\\$x\\$\"\n",
    "\n",
    "# check out all of the styles! https://matplotlib.org/3.1.1/gallery/style_sheets/style_sheets_reference.html\n",
    "PyPlot.matplotlib.style.use(\"seaborn-pastel\")\n",
    "\n",
    "# change settings for all plots at once, e.g. font size\n",
    "rcParams = PyPlot.PyDict(PyPlot.matplotlib.\"rcParams\")\n",
    "rcParams[\"font.size\"] = 16\n",
    "\n",
    "#make jupyter notebook print more dataframe columns\n",
    "ENV[\"COLUMNS\"]=160\n",
    "\n",
    "# important attributes for this analysis\n",
    "hand = \"basic\"\n",
    "subjects = [\"sub1\", \"sub2\", \"sub3\"]\n",
    "t_labels = [\"a\", \"b\", \"c\", \"d\", \"e\", \"f\", \"g\", \"h\"]\n",
    "rotations = [\"n\"]\n",
    "translations = ['a','b','c','d','e','f','g','h']\n",
    "\n",
    "metrics = [:dist, :arc_len, :area_btwn, :max_a_loc, :max_a_reg, :max_err, :mvt_eff, :t_fd]\n",
    "\n",
    "metric_to_color = Dict(:dist=>\"xkcd:tan\", :arc_len=>\"xkcd:light blue\", :area_btwn=>\"xkcd:dark red\", :max_a_loc=>\"xkcd:light green\", :max_a_reg=>\"xkcd:dark green\", :max_err=>\"xkcd:blue grey\", :mvt_eff=>\"xkcd:dark orange\", :r_fd=>\"xkcd:red brown\", :t_fd=>\"xkcd:brown\")\n",
    "\n",
    "\n",
    "print(\"Ready to go!\")"
   ]
  },
  {
   "cell_type": "markdown",
   "metadata": {},
   "source": [
    "-----"
   ]
  },
  {
   "cell_type": "markdown",
   "metadata": {},
   "source": [
    "# Reading in the Data\n",
    "Now reading in the metrics data for 2v2."
   ]
  },
  {
   "cell_type": "code",
   "execution_count": 2,
   "metadata": {},
   "outputs": [
    {
     "data": {
      "text/html": [
       "<table class=\"data-frame\"><thead><tr><th></th><th>trial</th><th>arc_len</th><th>area_btwn</th><th>dist</th><th>max_a_loc</th><th>max_a_reg</th><th>max_err</th><th>mvt_eff</th><th>r_fd</th><th>t_fd</th></tr><tr><th></th><th>String</th><th>Float64</th><th>Float64?</th><th>Float64</th><th>Float64</th><th>Float64</th><th>Float64</th><th>Float64</th><th>Float64</th><th>Float64</th></tr></thead><tbody><p>23 rows × 10 columns</p><tr><th>1</th><td>sub1_basic_a_n_1</td><td>0.0228927</td><td>6.57678e-5</td><td>0.00505051</td><td>0.0</td><td>0.0</td><td>0.011</td><td>0.220616</td><td>0.5143</td><td>0.0114702</td></tr><tr><th>2</th><td>sub1_basic_a_n_2</td><td>0.0295363</td><td>5.77915e-5</td><td>0.00505051</td><td>0.0</td><td>0.0</td><td>0.0049</td><td>0.170993</td><td>0.4406</td><td>0.0111463</td></tr><tr><th>3</th><td>sub1_basic_a_n_3</td><td>0.0306213</td><td>4.37218e-5</td><td>0.00505051</td><td>0.0</td><td>0.0</td><td>0.0037</td><td>0.164934</td><td>0.6955</td><td>0.0135204</td></tr><tr><th>4</th><td>sub1_basic_a_n_4</td><td>0.0137633</td><td>4.64978e-5</td><td>0.00505051</td><td>0.0</td><td>0.0</td><td>0.0</td><td>0.366954</td><td>0.2556</td><td>0.0132041</td></tr><tr><th>5</th><td>sub1_basic_a_n_5</td><td>0.006</td><td><em>missing</em></td><td>0.010101</td><td>0.0</td><td>0.0</td><td>0.0012</td><td>1.6835</td><td>0.0</td><td>0.00379473</td></tr><tr><th>6</th><td>sub2_basic_a_n_1</td><td>0.0079</td><td>2.06537e-5</td><td>0.00505051</td><td>0.0</td><td>0.0</td><td>0.0049</td><td>0.639304</td><td>0.7572</td><td>0.00994189</td></tr><tr><th>7</th><td>sub2_basic_a_n_2</td><td>0.0482012</td><td>7.97231e-5</td><td>0.00505051</td><td>0.0</td><td>0.0</td><td>0.0232</td><td>0.10478</td><td>1.2241</td><td>0.0234776</td></tr><tr><th>8</th><td>sub2_basic_a_n_3</td><td>0.0</td><td>0.0</td><td>0.00505051</td><td>0.0</td><td>0.0</td><td>0.0</td><td>Inf</td><td>0.0</td><td>0.00505051</td></tr><tr><th>9</th><td>sub2_basic_a_n_4</td><td>0.00306333</td><td><em>missing</em></td><td>0.010101</td><td>0.0</td><td>0.0</td><td>0.0</td><td>3.29739</td><td>0.0</td><td>0.00295466</td></tr><tr><th>10</th><td>sub2_basic_a_n_5</td><td>0.00995282</td><td>7.605e-6</td><td>0.00505051</td><td>0.0</td><td>0.0</td><td>0.0049</td><td>0.507445</td><td>1.4783</td><td>0.00994189</td></tr><tr><th>11</th><td>sub3_basic_a_n_1</td><td>0.0</td><td>0.0</td><td>0.00505051</td><td>0.0</td><td>0.0</td><td>0.0</td><td>Inf</td><td>0.0</td><td>0.00505051</td></tr><tr><th>12</th><td>sub3_basic_a_n_2</td><td>0.0122</td><td>3.08081e-5</td><td>0.00505051</td><td>0.0</td><td>0.0</td><td>0.0</td><td>0.413976</td><td>0.0</td><td>0.0132041</td></tr><tr><th>13</th><td>sub3_basic_a_n_3</td><td>0.0297781</td><td><em>missing</em></td><td>0.010101</td><td>0.0</td><td>0.0</td><td>0.0</td><td>0.339209</td><td>1.714</td><td>0.0186507</td></tr><tr><th>14</th><td>sub3_basic_a_n_4</td><td>0.0122</td><td>0.0</td><td>0.00505051</td><td>0.0</td><td>0.0</td><td>0.0122</td><td>0.413976</td><td>0.5143</td><td>0.0132041</td></tr><tr><th>15</th><td>sub3_basic_a_n_5</td><td>0.0367931</td><td>7.13065e-5</td><td>0.0151515</td><td>0.0</td><td>0.0</td><td>0.0061</td><td>0.411803</td><td>0.2357</td><td>0.0234128</td></tr><tr><th>16</th><td>sub1_basic_b_n_4</td><td>0.308743</td><td>0.000535767</td><td>0.0151535</td><td>0.0</td><td>0.0</td><td>0.0403051</td><td>0.0490813</td><td>1.0378</td><td>0.0561072</td></tr><tr><th>17</th><td>sub1_basic_b_n_5</td><td>0.0202656</td><td>3.04359e-5</td><td>0.00505117</td><td>0.0</td><td>0.0</td><td>0.0129401</td><td>0.249249</td><td>0.7748</td><td>0.0221614</td></tr><tr><th>18</th><td>sub2_basic_b_n_1</td><td>0.00892323</td><td>2.03527e-5</td><td>0.00505117</td><td>0.0</td><td>0.0</td><td>0.00106066</td><td>0.56607</td><td>0.4977</td><td>0.00627303</td></tr><tr><th>19</th><td>sub2_basic_b_n_2</td><td>0.0241136</td><td><em>missing</em></td><td>0.0101023</td><td>0.0</td><td>0.0</td><td>0.00296985</td><td>0.418949</td><td>0.4894</td><td>0.00884138</td></tr><tr><th>20</th><td>sub2_basic_b_n_3</td><td>0.00787722</td><td>7.72419e-6</td><td>0.00505117</td><td>0.0</td><td>0.0</td><td>0.00219203</td><td>0.641238</td><td>0.2556</td><td>0.00746041</td></tr><tr><th>21</th><td>sub2_basic_b_n_4</td><td>0.0678709</td><td>0.000114918</td><td>0.00505117</td><td>0.0</td><td>0.0</td><td>0.0200818</td><td>0.0744232</td><td>3.4469</td><td>0.0257276</td></tr><tr><th>22</th><td>sub2_basic_b_n_5</td><td>0.0131717</td><td>1.6776e-5</td><td>0.00505117</td><td>0.0</td><td>0.0</td><td>0.00346482</td><td>0.383487</td><td>0.0</td><td>0.0140414</td></tr><tr><th>23</th><td>sub3_basic_b_n_1</td><td>0.0570639</td><td>8.67589e-5</td><td>0.0151535</td><td>0.0</td><td>0.0</td><td>0.0106773</td><td>0.265553</td><td>1.0378</td><td>0.0109081</td></tr></tbody></table>"
      ],
      "text/latex": [
       "\\begin{tabular}{r|cccccccccc}\n",
       "\t& trial & arc\\_len & area\\_btwn & dist & max\\_a\\_loc & max\\_a\\_reg & max\\_err & mvt\\_eff & r\\_fd & t\\_fd\\\\\n",
       "\t\\hline\n",
       "\t& String & Float64 & Float64? & Float64 & Float64 & Float64 & Float64 & Float64 & Float64 & Float64\\\\\n",
       "\t\\hline\n",
       "\t1 & sub1\\_basic\\_a\\_n\\_1 & 0.0228927 & 6.57678e-5 & 0.00505051 & 0.0 & 0.0 & 0.011 & 0.220616 & 0.5143 & 0.0114702 \\\\\n",
       "\t2 & sub1\\_basic\\_a\\_n\\_2 & 0.0295363 & 5.77915e-5 & 0.00505051 & 0.0 & 0.0 & 0.0049 & 0.170993 & 0.4406 & 0.0111463 \\\\\n",
       "\t3 & sub1\\_basic\\_a\\_n\\_3 & 0.0306213 & 4.37218e-5 & 0.00505051 & 0.0 & 0.0 & 0.0037 & 0.164934 & 0.6955 & 0.0135204 \\\\\n",
       "\t4 & sub1\\_basic\\_a\\_n\\_4 & 0.0137633 & 4.64978e-5 & 0.00505051 & 0.0 & 0.0 & 0.0 & 0.366954 & 0.2556 & 0.0132041 \\\\\n",
       "\t5 & sub1\\_basic\\_a\\_n\\_5 & 0.006 & \\emph{missing} & 0.010101 & 0.0 & 0.0 & 0.0012 & 1.6835 & 0.0 & 0.00379473 \\\\\n",
       "\t6 & sub2\\_basic\\_a\\_n\\_1 & 0.0079 & 2.06537e-5 & 0.00505051 & 0.0 & 0.0 & 0.0049 & 0.639304 & 0.7572 & 0.00994189 \\\\\n",
       "\t7 & sub2\\_basic\\_a\\_n\\_2 & 0.0482012 & 7.97231e-5 & 0.00505051 & 0.0 & 0.0 & 0.0232 & 0.10478 & 1.2241 & 0.0234776 \\\\\n",
       "\t8 & sub2\\_basic\\_a\\_n\\_3 & 0.0 & 0.0 & 0.00505051 & 0.0 & 0.0 & 0.0 & Inf & 0.0 & 0.00505051 \\\\\n",
       "\t9 & sub2\\_basic\\_a\\_n\\_4 & 0.00306333 & \\emph{missing} & 0.010101 & 0.0 & 0.0 & 0.0 & 3.29739 & 0.0 & 0.00295466 \\\\\n",
       "\t10 & sub2\\_basic\\_a\\_n\\_5 & 0.00995282 & 7.605e-6 & 0.00505051 & 0.0 & 0.0 & 0.0049 & 0.507445 & 1.4783 & 0.00994189 \\\\\n",
       "\t11 & sub3\\_basic\\_a\\_n\\_1 & 0.0 & 0.0 & 0.00505051 & 0.0 & 0.0 & 0.0 & Inf & 0.0 & 0.00505051 \\\\\n",
       "\t12 & sub3\\_basic\\_a\\_n\\_2 & 0.0122 & 3.08081e-5 & 0.00505051 & 0.0 & 0.0 & 0.0 & 0.413976 & 0.0 & 0.0132041 \\\\\n",
       "\t13 & sub3\\_basic\\_a\\_n\\_3 & 0.0297781 & \\emph{missing} & 0.010101 & 0.0 & 0.0 & 0.0 & 0.339209 & 1.714 & 0.0186507 \\\\\n",
       "\t14 & sub3\\_basic\\_a\\_n\\_4 & 0.0122 & 0.0 & 0.00505051 & 0.0 & 0.0 & 0.0122 & 0.413976 & 0.5143 & 0.0132041 \\\\\n",
       "\t15 & sub3\\_basic\\_a\\_n\\_5 & 0.0367931 & 7.13065e-5 & 0.0151515 & 0.0 & 0.0 & 0.0061 & 0.411803 & 0.2357 & 0.0234128 \\\\\n",
       "\t16 & sub1\\_basic\\_b\\_n\\_4 & 0.308743 & 0.000535767 & 0.0151535 & 0.0 & 0.0 & 0.0403051 & 0.0490813 & 1.0378 & 0.0561072 \\\\\n",
       "\t17 & sub1\\_basic\\_b\\_n\\_5 & 0.0202656 & 3.04359e-5 & 0.00505117 & 0.0 & 0.0 & 0.0129401 & 0.249249 & 0.7748 & 0.0221614 \\\\\n",
       "\t18 & sub2\\_basic\\_b\\_n\\_1 & 0.00892323 & 2.03527e-5 & 0.00505117 & 0.0 & 0.0 & 0.00106066 & 0.56607 & 0.4977 & 0.00627303 \\\\\n",
       "\t19 & sub2\\_basic\\_b\\_n\\_2 & 0.0241136 & \\emph{missing} & 0.0101023 & 0.0 & 0.0 & 0.00296985 & 0.418949 & 0.4894 & 0.00884138 \\\\\n",
       "\t20 & sub2\\_basic\\_b\\_n\\_3 & 0.00787722 & 7.72419e-6 & 0.00505117 & 0.0 & 0.0 & 0.00219203 & 0.641238 & 0.2556 & 0.00746041 \\\\\n",
       "\t21 & sub2\\_basic\\_b\\_n\\_4 & 0.0678709 & 0.000114918 & 0.00505117 & 0.0 & 0.0 & 0.0200818 & 0.0744232 & 3.4469 & 0.0257276 \\\\\n",
       "\t22 & sub2\\_basic\\_b\\_n\\_5 & 0.0131717 & 1.6776e-5 & 0.00505117 & 0.0 & 0.0 & 0.00346482 & 0.383487 & 0.0 & 0.0140414 \\\\\n",
       "\t23 & sub3\\_basic\\_b\\_n\\_1 & 0.0570639 & 8.67589e-5 & 0.0151535 & 0.0 & 0.0 & 0.0106773 & 0.265553 & 1.0378 & 0.0109081 \\\\\n",
       "\\end{tabular}\n"
      ],
      "text/plain": [
       "\u001b[1m23×10 DataFrame\u001b[0m\n",
       "\u001b[1m Row \u001b[0m│\u001b[1m trial            \u001b[0m\u001b[1m arc_len    \u001b[0m\u001b[1m area_btwn         \u001b[0m\u001b[1m dist       \u001b[0m\u001b[1m max_a_loc \u001b[0m\u001b[1m max_a_reg \u001b[0m\u001b[1m max_err    \u001b[0m\u001b[1m mvt_eff     \u001b[0m\u001b[1m r_fd    \u001b[0m\u001b[1m t_fd       \u001b[0m\n",
       "\u001b[1m     \u001b[0m│\u001b[90m String           \u001b[0m\u001b[90m Float64    \u001b[0m\u001b[90m Float64?          \u001b[0m\u001b[90m Float64    \u001b[0m\u001b[90m Float64   \u001b[0m\u001b[90m Float64   \u001b[0m\u001b[90m Float64    \u001b[0m\u001b[90m Float64     \u001b[0m\u001b[90m Float64 \u001b[0m\u001b[90m Float64    \u001b[0m\n",
       "─────┼─────────────────────────────────────────────────────────────────────────────────────────────────────────────────────────────────\n",
       "   1 │ sub1_basic_a_n_1  0.0228927         6.57678e-5   0.00505051        0.0        0.0  0.011         0.220616    0.5143  0.0114702\n",
       "   2 │ sub1_basic_a_n_2  0.0295363         5.77915e-5   0.00505051        0.0        0.0  0.0049        0.170993    0.4406  0.0111463\n",
       "   3 │ sub1_basic_a_n_3  0.0306213         4.37218e-5   0.00505051        0.0        0.0  0.0037        0.164934    0.6955  0.0135204\n",
       "   4 │ sub1_basic_a_n_4  0.0137633         4.64978e-5   0.00505051        0.0        0.0  0.0           0.366954    0.2556  0.0132041\n",
       "   5 │ sub1_basic_a_n_5  0.006      \u001b[90m missing           \u001b[0m 0.010101          0.0        0.0  0.0012        1.6835      0.0     0.00379473\n",
       "   6 │ sub2_basic_a_n_1  0.0079            2.06537e-5   0.00505051        0.0        0.0  0.0049        0.639304    0.7572  0.00994189\n",
       "   7 │ sub2_basic_a_n_2  0.0482012         7.97231e-5   0.00505051        0.0        0.0  0.0232        0.10478     1.2241  0.0234776\n",
       "   8 │ sub2_basic_a_n_3  0.0               0.0          0.00505051        0.0        0.0  0.0         Inf           0.0     0.00505051\n",
       "   9 │ sub2_basic_a_n_4  0.00306333 \u001b[90m missing           \u001b[0m 0.010101          0.0        0.0  0.0           3.29739     0.0     0.00295466\n",
       "  10 │ sub2_basic_a_n_5  0.00995282        7.605e-6     0.00505051        0.0        0.0  0.0049        0.507445    1.4783  0.00994189\n",
       "  11 │ sub3_basic_a_n_1  0.0               0.0          0.00505051        0.0        0.0  0.0         Inf           0.0     0.00505051\n",
       "  12 │ sub3_basic_a_n_2  0.0122            3.08081e-5   0.00505051        0.0        0.0  0.0           0.413976    0.0     0.0132041\n",
       "  13 │ sub3_basic_a_n_3  0.0297781  \u001b[90m missing           \u001b[0m 0.010101          0.0        0.0  0.0           0.339209    1.714   0.0186507\n",
       "  14 │ sub3_basic_a_n_4  0.0122            0.0          0.00505051        0.0        0.0  0.0122        0.413976    0.5143  0.0132041\n",
       "  15 │ sub3_basic_a_n_5  0.0367931         7.13065e-5   0.0151515         0.0        0.0  0.0061        0.411803    0.2357  0.0234128\n",
       "  16 │ sub1_basic_b_n_4  0.308743          0.000535767  0.0151535         0.0        0.0  0.0403051     0.0490813   1.0378  0.0561072\n",
       "  17 │ sub1_basic_b_n_5  0.0202656         3.04359e-5   0.00505117        0.0        0.0  0.0129401     0.249249    0.7748  0.0221614\n",
       "  18 │ sub2_basic_b_n_1  0.00892323        2.03527e-5   0.00505117        0.0        0.0  0.00106066    0.56607     0.4977  0.00627303\n",
       "  19 │ sub2_basic_b_n_2  0.0241136  \u001b[90m missing           \u001b[0m 0.0101023         0.0        0.0  0.00296985    0.418949    0.4894  0.00884138\n",
       "  20 │ sub2_basic_b_n_3  0.00787722        7.72419e-6   0.00505117        0.0        0.0  0.00219203    0.641238    0.2556  0.00746041\n",
       "  21 │ sub2_basic_b_n_4  0.0678709         0.000114918  0.00505117        0.0        0.0  0.0200818     0.0744232   3.4469  0.0257276\n",
       "  22 │ sub2_basic_b_n_5  0.0131717         1.6776e-5    0.00505117        0.0        0.0  0.00346482    0.383487    0.0     0.0140414\n",
       "  23 │ sub3_basic_b_n_1  0.0570639         8.67589e-5   0.0151535         0.0        0.0  0.0106773     0.265553    1.0378  0.0109081"
      ]
     },
     "execution_count": 2,
     "metadata": {},
     "output_type": "execute_result"
    }
   ],
   "source": [
    "df_hand = CSV.read(f\"results/{hand}_metrics.csv\", DataFrame, copycols=true)\n",
    "first(df_hand, 23)"
   ]
  },
  {
   "cell_type": "code",
   "execution_count": 3,
   "metadata": {},
   "outputs": [
    {
     "data": {
      "text/html": [
       "<table class=\"data-frame\"><thead><tr><th></th><th>trial</th><th>subj</th><th>dir</th><th>num</th><th>arc_len</th><th>area_btwn</th><th>dist</th><th>max_a_loc</th><th>max_a_reg</th><th>max_err</th><th>mvt_eff</th><th>r_fd</th><th>t_fd</th></tr><tr><th></th><th>String</th><th>Char</th><th>Char</th><th>Char</th><th>Float64</th><th>Float64?</th><th>Float64</th><th>Float64</th><th>Float64</th><th>Float64</th><th>Float64</th><th>Float64</th><th>Float64</th></tr></thead><tbody><p>2 rows × 13 columns</p><tr><th>1</th><td>sub1_basic_a_n_1</td><td>1</td><td>a</td><td>1</td><td>0.0228927</td><td>6.57678e-5</td><td>0.00505051</td><td>0.0</td><td>0.0</td><td>0.011</td><td>0.220616</td><td>0.5143</td><td>0.0114702</td></tr><tr><th>2</th><td>sub1_basic_a_n_2</td><td>1</td><td>a</td><td>2</td><td>0.0295363</td><td>5.77915e-5</td><td>0.00505051</td><td>0.0</td><td>0.0</td><td>0.0049</td><td>0.170993</td><td>0.4406</td><td>0.0111463</td></tr></tbody></table>"
      ],
      "text/latex": [
       "\\begin{tabular}{r|ccccccccccccc}\n",
       "\t& trial & subj & dir & num & arc\\_len & area\\_btwn & dist & max\\_a\\_loc & max\\_a\\_reg & max\\_err & mvt\\_eff & r\\_fd & t\\_fd\\\\\n",
       "\t\\hline\n",
       "\t& String & Char & Char & Char & Float64 & Float64? & Float64 & Float64 & Float64 & Float64 & Float64 & Float64 & Float64\\\\\n",
       "\t\\hline\n",
       "\t1 & sub1\\_basic\\_a\\_n\\_1 & 1 & a & 1 & 0.0228927 & 6.57678e-5 & 0.00505051 & 0.0 & 0.0 & 0.011 & 0.220616 & 0.5143 & 0.0114702 \\\\\n",
       "\t2 & sub1\\_basic\\_a\\_n\\_2 & 1 & a & 2 & 0.0295363 & 5.77915e-5 & 0.00505051 & 0.0 & 0.0 & 0.0049 & 0.170993 & 0.4406 & 0.0111463 \\\\\n",
       "\\end{tabular}\n"
      ],
      "text/plain": [
       "\u001b[1m2×13 DataFrame\u001b[0m\n",
       "\u001b[1m Row \u001b[0m│\u001b[1m trial            \u001b[0m\u001b[1m subj \u001b[0m\u001b[1m dir  \u001b[0m\u001b[1m num  \u001b[0m\u001b[1m arc_len   \u001b[0m\u001b[1m area_btwn  \u001b[0m\u001b[1m dist       \u001b[0m\u001b[1m max_a_loc \u001b[0m\u001b[1m max_a_reg \u001b[0m\u001b[1m max_err \u001b[0m\u001b[1m mvt_eff  \u001b[0m\u001b[1m r_fd    \u001b[0m\u001b[1m t_fd      \u001b[0m\n",
       "\u001b[1m     \u001b[0m│\u001b[90m String           \u001b[0m\u001b[90m Char \u001b[0m\u001b[90m Char \u001b[0m\u001b[90m Char \u001b[0m\u001b[90m Float64   \u001b[0m\u001b[90m Float64?   \u001b[0m\u001b[90m Float64    \u001b[0m\u001b[90m Float64   \u001b[0m\u001b[90m Float64   \u001b[0m\u001b[90m Float64 \u001b[0m\u001b[90m Float64  \u001b[0m\u001b[90m Float64 \u001b[0m\u001b[90m Float64   \u001b[0m\n",
       "─────┼────────────────────────────────────────────────────────────────────────────────────────────────────────────────────────────────────\n",
       "   1 │ sub1_basic_a_n_1  1     a     1     0.0228927  6.57678e-5  0.00505051        0.0        0.0   0.011   0.220616   0.5143  0.0114702\n",
       "   2 │ sub1_basic_a_n_2  1     a     2     0.0295363  5.77915e-5  0.00505051        0.0        0.0   0.0049  0.170993   0.4406  0.0111463"
      ]
     },
     "execution_count": 3,
     "metadata": {},
     "output_type": "execute_result"
    }
   ],
   "source": [
    "# breaking out important info from the trial id for easier data access\n",
    "subject_nums = []\n",
    "translation_labels = []\n",
    "numbers = []\n",
    "\n",
    "for row in eachrow(df_hand)\n",
    "    x = row[:trial]\n",
    "    #sub1_basic_a_n_1\n",
    "    push!(subject_nums, x[4])\n",
    "    push!(translation_labels, x[12])\n",
    "    push!(numbers, x[16])\n",
    "end\n",
    "\n",
    "s = convert(Array{Char,1}, subject_nums)\n",
    "d = convert(Array{Char,1}, translation_labels)\n",
    "n = convert(Array{Char,1}, numbers)\n",
    "\n",
    "insertcols!(df_hand, 2, :subj=>s)\n",
    "insertcols!(df_hand, 3, :dir=>d)\n",
    "insertcols!(df_hand, 4, :num=>n)\n",
    "first(df_hand, 2)"
   ]
  },
  {
   "cell_type": "markdown",
   "metadata": {},
   "source": [
    "## Asterisk Plot\n",
    "\n",
    "![Avg Asterisk](./pics/avgd_basic_3subs_n.jpg)"
   ]
  },
  {
   "cell_type": "markdown",
   "metadata": {},
   "source": [
    "-----"
   ]
  },
  {
   "cell_type": "markdown",
   "metadata": {},
   "source": [
    "# Histograms of Metrics\n",
    "Now I will produce histogram plots of the metrics to see what kind of a distribution we get for all the trials.\n",
    "Shamelessly taken from my previous datascience course at: [link](https://github.com/SimonEnsemble/data_science_course)"
   ]
  },
  {
   "cell_type": "code",
   "execution_count": 4,
   "metadata": {
    "scrolled": true
   },
   "outputs": [
    {
     "ename": "LoadError",
     "evalue": "\u001b[91m(in a Julia function called from Python)\u001b[39m\n\u001b[91mJULIA: MethodError: no method matching iterate(::Missing)\u001b[39m\n\u001b[91mClosest candidates are:\u001b[39m\n\u001b[91m  iterate(!Matched::Base.AsyncCollector, !Matched::Base.AsyncCollectorState) at asyncmap.jl:335\u001b[39m\n\u001b[91m  iterate(!Matched::Base.AsyncCollector) at asyncmap.jl:306\u001b[39m\n\u001b[91m  iterate(!Matched::BitSet) at bitset.jl:343\u001b[39m\n\u001b[91m  ...\u001b[39m\n\u001b[91mStacktrace:\u001b[39m\n\u001b[91m [1] jlwrap_iterator(::Missing) at /home/john/.julia/packages/PyCall/tqyST/src/pyiterator.jl:144\u001b[39m\n\u001b[91m [2] pyjlwrap_getiter(::Ptr{PyCall.PyObject_struct}) at /home/john/.julia/packages/PyCall/tqyST/src/pyiterator.jl:125\u001b[39m\n\u001b[91m [3] macro expansion at /home/john/.julia/packages/PyCall/tqyST/src/exception.jl:95 [inlined]\u001b[39m\n\u001b[91m [4] #109 at /home/john/.julia/packages/PyCall/tqyST/src/pyfncall.jl:43 [inlined]\u001b[39m\n\u001b[91m [5] disable_sigint at ./c.jl:446 [inlined]\u001b[39m\n\u001b[91m [6] __pycall! at /home/john/.julia/packages/PyCall/tqyST/src/pyfncall.jl:42 [inlined]\u001b[39m\n\u001b[91m [7] _pycall!(::PyObject, ::PyObject, ::Tuple{Array{Union{Missing, Float64},1}}, ::Int64, ::PyObject) at /home/john/.julia/packages/PyCall/tqyST/src/pyfncall.jl:29\u001b[39m\n\u001b[91m [8] _pycall!(::PyObject, ::PyObject, ::Tuple{Array{Union{Missing, Float64},1}}, ::Base.Iterators.Pairs{Symbol,String,Tuple{Symbol},NamedTuple{(:color,),Tuple{String}}}) at /home/john/.julia/packages/PyCall/tqyST/src/pyfncall.jl:11\u001b[39m\n\u001b[91m [9] #pycall#115 at /home/john/.julia/packages/PyCall/tqyST/src/pyfncall.jl:83 [inlined]\u001b[39m\n\u001b[91m [10] hist(::Array{Union{Missing, Float64},1}; kws::Base.Iterators.Pairs{Symbol,String,Tuple{Symbol},NamedTuple{(:color,),Tuple{String}}}) at /home/john/.julia/packages/PyPlot/XHEG0/src/PyPlot.jl:177\u001b[39m\n\u001b[91m [11] top-level scope at In[4]:4\u001b[39m\n\u001b[91m [12] include_string(::Function, ::Module, ::String, ::String) at ./loading.jl:1091\u001b[39m\n\u001b[91m [13] softscope_include_string(::Module, ::String, ::String) at /home/john/.julia/packages/SoftGlobalScope/u4UzH/src/SoftGlobalScope.jl:65\u001b[39m\n\u001b[91m [14] execute_request(::ZMQ.Socket, ::IJulia.Msg) at /home/john/.julia/packages/IJulia/e8kqU/src/execute_request.jl:67\u001b[39m\n\u001b[91m [15] #invokelatest#1 at ./essentials.jl:710 [inlined]\u001b[39m\n\u001b[91m [16] invokelatest at ./essentials.jl:709 [inlined]\u001b[39m\n\u001b[91m [17] eventloop(::ZMQ.Socket) at /home/john/.julia/packages/IJulia/e8kqU/src/eventloop.jl:8\u001b[39m\n\u001b[91m [18] (::IJulia.var\"#15#18\")() at ./task.jl:356\u001b[39m",
     "output_type": "error",
     "traceback": [
      "\u001b[91m(in a Julia function called from Python)\u001b[39m\n\u001b[91mJULIA: MethodError: no method matching iterate(::Missing)\u001b[39m\n\u001b[91mClosest candidates are:\u001b[39m\n\u001b[91m  iterate(!Matched::Base.AsyncCollector, !Matched::Base.AsyncCollectorState) at asyncmap.jl:335\u001b[39m\n\u001b[91m  iterate(!Matched::Base.AsyncCollector) at asyncmap.jl:306\u001b[39m\n\u001b[91m  iterate(!Matched::BitSet) at bitset.jl:343\u001b[39m\n\u001b[91m  ...\u001b[39m\n\u001b[91mStacktrace:\u001b[39m\n\u001b[91m [1] jlwrap_iterator(::Missing) at /home/john/.julia/packages/PyCall/tqyST/src/pyiterator.jl:144\u001b[39m\n\u001b[91m [2] pyjlwrap_getiter(::Ptr{PyCall.PyObject_struct}) at /home/john/.julia/packages/PyCall/tqyST/src/pyiterator.jl:125\u001b[39m\n\u001b[91m [3] macro expansion at /home/john/.julia/packages/PyCall/tqyST/src/exception.jl:95 [inlined]\u001b[39m\n\u001b[91m [4] #109 at /home/john/.julia/packages/PyCall/tqyST/src/pyfncall.jl:43 [inlined]\u001b[39m\n\u001b[91m [5] disable_sigint at ./c.jl:446 [inlined]\u001b[39m\n\u001b[91m [6] __pycall! at /home/john/.julia/packages/PyCall/tqyST/src/pyfncall.jl:42 [inlined]\u001b[39m\n\u001b[91m [7] _pycall!(::PyObject, ::PyObject, ::Tuple{Array{Union{Missing, Float64},1}}, ::Int64, ::PyObject) at /home/john/.julia/packages/PyCall/tqyST/src/pyfncall.jl:29\u001b[39m\n\u001b[91m [8] _pycall!(::PyObject, ::PyObject, ::Tuple{Array{Union{Missing, Float64},1}}, ::Base.Iterators.Pairs{Symbol,String,Tuple{Symbol},NamedTuple{(:color,),Tuple{String}}}) at /home/john/.julia/packages/PyCall/tqyST/src/pyfncall.jl:11\u001b[39m\n\u001b[91m [9] #pycall#115 at /home/john/.julia/packages/PyCall/tqyST/src/pyfncall.jl:83 [inlined]\u001b[39m\n\u001b[91m [10] hist(::Array{Union{Missing, Float64},1}; kws::Base.Iterators.Pairs{Symbol,String,Tuple{Symbol},NamedTuple{(:color,),Tuple{String}}}) at /home/john/.julia/packages/PyPlot/XHEG0/src/PyPlot.jl:177\u001b[39m\n\u001b[91m [11] top-level scope at In[4]:4\u001b[39m\n\u001b[91m [12] include_string(::Function, ::Module, ::String, ::String) at ./loading.jl:1091\u001b[39m\n\u001b[91m [13] softscope_include_string(::Module, ::String, ::String) at /home/john/.julia/packages/SoftGlobalScope/u4UzH/src/SoftGlobalScope.jl:65\u001b[39m\n\u001b[91m [14] execute_request(::ZMQ.Socket, ::IJulia.Msg) at /home/john/.julia/packages/IJulia/e8kqU/src/execute_request.jl:67\u001b[39m\n\u001b[91m [15] #invokelatest#1 at ./essentials.jl:710 [inlined]\u001b[39m\n\u001b[91m [16] invokelatest at ./essentials.jl:709 [inlined]\u001b[39m\n\u001b[91m [17] eventloop(::ZMQ.Socket) at /home/john/.julia/packages/IJulia/e8kqU/src/eventloop.jl:8\u001b[39m\n\u001b[91m [18] (::IJulia.var\"#15#18\")() at ./task.jl:356\u001b[39m",
      "",
      "Stacktrace:",
      " [1] pyerr_check at /home/john/.julia/packages/PyCall/tqyST/src/exception.jl:62 [inlined]",
      " [2] pyerr_check at /home/john/.julia/packages/PyCall/tqyST/src/exception.jl:66 [inlined]",
      " [3] _handle_error(::String) at /home/john/.julia/packages/PyCall/tqyST/src/exception.jl:83",
      " [4] macro expansion at /home/john/.julia/packages/PyCall/tqyST/src/exception.jl:97 [inlined]",
      " [5] #109 at /home/john/.julia/packages/PyCall/tqyST/src/pyfncall.jl:43 [inlined]",
      " [6] disable_sigint at ./c.jl:446 [inlined]",
      " [7] __pycall! at /home/john/.julia/packages/PyCall/tqyST/src/pyfncall.jl:42 [inlined]",
      " [8] _pycall!(::PyObject, ::PyObject, ::Tuple{Array{Union{Missing, Float64},1}}, ::Int64, ::PyObject) at /home/john/.julia/packages/PyCall/tqyST/src/pyfncall.jl:29",
      " [9] _pycall!(::PyObject, ::PyObject, ::Tuple{Array{Union{Missing, Float64},1}}, ::Base.Iterators.Pairs{Symbol,String,Tuple{Symbol},NamedTuple{(:color,),Tuple{String}}}) at /home/john/.julia/packages/PyCall/tqyST/src/pyfncall.jl:11",
      " [10] #pycall#115 at /home/john/.julia/packages/PyCall/tqyST/src/pyfncall.jl:83 [inlined]",
      " [11] hist(::Array{Union{Missing, Float64},1}; kws::Base.Iterators.Pairs{Symbol,String,Tuple{Symbol},NamedTuple{(:color,),Tuple{String}}}) at /home/john/.julia/packages/PyPlot/XHEG0/src/PyPlot.jl:177",
      " [12] top-level scope at In[4]:4",
      " [13] include_string(::Function, ::Module, ::String, ::String) at ./loading.jl:1091"
     ]
    }
   ],
   "source": [
    "\n",
    "for m in metrics\n",
    "    figure()\n",
    "    hist(df_hand[:, m], color=metric_to_color[m]) #, normed=true)\n",
    "    scatter(df_hand[:, m], [-1 for i = 1:nrow(df_hand)], marker=\"+\", color=\"r\")\n",
    "    xlabel(f\"{m}\")\n",
    "    ylabel(\"# Trials\")\n",
    "    title(f\"Distribution of {m} values\")\n",
    "end"
   ]
  },
  {
   "cell_type": "markdown",
   "metadata": {},
   "source": [
    "### Observations of Histogram Plots\n",
    "Based on what I see, here are the observations per metric (in order of appearance top to down):\n",
    "* **total distance**: values are distributed\n",
    "* **arc length**: mostly concentrated at low arc lengths\n",
    "* **max area region location**: mostly, the region of max error area is most commonly found at the end\n",
    "* **max area region**: at the locations of max error area, the area of error (aka the area between the path and the target line) is still relatively low\n",
    "* **max error**: values are distributed\n",
    "* **movement efficiency**: values are distributed\n",
    "* **rotational frechet distance**: aka max rotation error. Mostly low, but larger distribution at the low end\n",
    "* translational frechet distance: all values are very low"
   ]
  },
  {
   "cell_type": "markdown",
   "metadata": {},
   "source": [
    "----"
   ]
  },
  {
   "cell_type": "markdown",
   "metadata": {},
   "source": [
    "# Metric Values by direction\n",
    "Plot all metric values in bar charts by direction"
   ]
  },
  {
   "cell_type": "code",
   "execution_count": 5,
   "metadata": {
    "scrolled": true
   },
   "outputs": [],
   "source": [
    "# groups = groupby(df_hand, :dir)\n",
    "# a_df = groups[1]\n",
    "# b_df = groups[2]\n",
    "# c_df = groups[3]\n",
    "# d_df = groups[4]\n",
    "# e_df = groups[5]\n",
    "# f_df = groups[6]\n",
    "# g_df = groups[7]\n",
    "# h_df = groups[8]\n",
    "# directions = [a_df, b_df, c_df, d_df, e_df, f_df, g_df, h_df]\n",
    "# a_df"
   ]
  },
  {
   "cell_type": "code",
   "execution_count": 6,
   "metadata": {},
   "outputs": [
    {
     "name": "stdout",
     "output_type": "stream",
     "text": [
      "Functions are ready!\n"
     ]
    }
   ],
   "source": [
    "function compare_metrics(metric::Symbol, df::DataFrame, ts=\"nothing\") \n",
    "    if ts == \"nothing\"\n",
    "        dir_data = groupby(df, :dir)\n",
    "    els\n",
    "        sub_df = filter(row -> row[:dir] in ts , df)\n",
    "        dir_data = \n",
    "    end\n",
    "\n",
    "    metric_data = []\n",
    "    \n",
    "    for dir in dir_data\n",
    "        data = dir[!, metric]\n",
    "        push!(metric_data, data)\n",
    "    end\n",
    "    plt_title = f\"{hand}: {metric}\"\n",
    "    boxplot(metric_data)\n",
    "    title(plt_title)\n",
    "    xticks(1:8, t_labels)\n",
    "    xlabel(\"Trial Directions\")\n",
    "end\n",
    "\n",
    "println(\"Functions are ready!\")"
   ]
  },
  {
   "cell_type": "code",
   "execution_count": 7,
   "metadata": {},
   "outputs": [
    {
     "name": "stdout",
     "output_type": "stream",
     "text": [
      "Functions are ready!"
     ]
    }
   ],
   "source": [
    "subjects = [\"sub1\", \"sub2\", \"sub3\"]\n",
    "translations = ['a','b','c','d','e','f','g','h']\n",
    "rotations = [\"n\"]\n",
    "\n",
    "function get_trial_vals(df::DataFrame, metric::Symbol, translation::Char)\n",
    "    desired_direction = filter(row -> row[:dir] == translation, df)\n",
    "    names = desired_direction[!, :trial]\n",
    "    values = desired_direction[!, metric]\n",
    "    v = convert(Array{Float64,1}, values)\n",
    "    \n",
    "    return v, names\n",
    "end\n",
    "\n",
    "print(\"Functions are ready!\")"
   ]
  },
  {
   "cell_type": "markdown",
   "metadata": {},
   "source": [
    "-----"
   ]
  },
  {
   "cell_type": "markdown",
   "metadata": {},
   "source": [
    "# Average Line Calculations"
   ]
  },
  {
   "cell_type": "markdown",
   "metadata": {},
   "source": [
    "#### Dir: C\n",
    "![Average Debug Plot for direction C](./pics/avgdebug_2v2_3subs_c_n.jpg)\n",
    "\n",
    "#### Dir: G\n",
    "![Average Debug Plot for direction G](./pics/avgdebug_2v2_3subs_g_n.jpg)\n"
   ]
  },
  {
   "cell_type": "markdown",
   "metadata": {},
   "source": [
    "----"
   ]
  },
  {
   "cell_type": "markdown",
   "metadata": {},
   "source": [
    "# T Tests for Symmetry"
   ]
  },
  {
   "cell_type": "code",
   "execution_count": 8,
   "metadata": {
    "scrolled": false
   },
   "outputs": [],
   "source": [
    "using HypothesisTests"
   ]
  },
  {
   "cell_type": "code",
   "execution_count": 22,
   "metadata": {},
   "outputs": [
    {
     "name": "stdout",
     "output_type": "stream",
     "text": [
      "Functions are ready!\n"
     ]
    }
   ],
   "source": [
    "function compare_2_directions(metric::Symbol, ts=\"nothing\")\n",
    "    if ts == \"nothing\"\n",
    "        ts = ['a','b','c','d','e','f','g','h']\n",
    "    end\n",
    "        \n",
    "    results_report = zeros(8, 8)\n",
    "    \n",
    "    for t in ts\n",
    "        i = findall(x->x==t, ts)[1]\n",
    "        n = 0\n",
    "        \n",
    "        for t2 in ts[i:end]\n",
    "            v1, _ = get_trial_vals(df_hand, metric, t)\n",
    "            v2, _ = get_trial_vals(df_hand, metric, t2)\n",
    "            \n",
    "            result = pvalue(UnequalVarianceTTest(v1, v2))\n",
    "            r = round(result, digits=4)\n",
    "            results_report[i, i+n] = r\n",
    "            \n",
    "            n = n+1\n",
    "        end\n",
    "        println(\" \")\n",
    "    end\n",
    "\n",
    "    r_df = DataFrame(trials=translations = [\"a\", \"b\", \"c\", \"d\", \"e\", \"f\", \"g\", \"h\"], \n",
    "                     a=results_report[1,:], b=results_report[2,:], c=results_report[3,:],\n",
    "                     d=results_report[4,:], e=results_report[5,:], f=results_report[6,:],\n",
    "                     g=results_report[7,:], h=results_report[8,:])\n",
    "    \n",
    "    return r_df\n",
    "end\n",
    "\n",
    "# temp = compare_2_directions(:arc_len)\n",
    "println(\"Functions are ready!\")"
   ]
  },
  {
   "cell_type": "code",
   "execution_count": 10,
   "metadata": {
    "scrolled": true
   },
   "outputs": [],
   "source": [
    "# for m in metrics\n",
    "#     maxes = []\n",
    "#     mins = []\n",
    "#     r = compare_2_directions(m)\n",
    "    \n",
    "#     println(f\"{m} data\")\n",
    "#     println(\"   \")\n",
    "#     println(r)\n",
    "#     println(\"================================================\")\n",
    "#     println(\"    \")\n",
    "# end"
   ]
  },
  {
   "cell_type": "markdown",
   "metadata": {},
   "source": [
    "----"
   ]
  },
  {
   "cell_type": "markdown",
   "metadata": {},
   "source": [
    "# Data Analysis "
   ]
  },
  {
   "cell_type": "markdown",
   "metadata": {},
   "source": [
    "![Avg Asterisk](./pics/avgd_basic_3subs_n.jpg)\n",
    "\n",
    "**Hypotheses:**\n",
    "* df"
   ]
  },
  {
   "cell_type": "markdown",
   "metadata": {},
   "source": [
    "### Total Distance Travelled\n"
   ]
  },
  {
   "cell_type": "code",
   "execution_count": 23,
   "metadata": {},
   "outputs": [
    {
     "ename": "LoadError",
     "evalue": "\u001b[91mMethodError: no method matching compare_metrics(::Symbol, ::DataFrame, ::Array{Char,1})\u001b[39m\n\u001b[91m\u001b[0mClosest candidates are:\u001b[39m\n\u001b[91m\u001b[0m  compare_metrics(::Symbol, ::DataFrame) at In[6]:1\u001b[39m",
     "output_type": "error",
     "traceback": [
      "\u001b[91mMethodError: no method matching compare_metrics(::Symbol, ::DataFrame, ::Array{Char,1})\u001b[39m\n\u001b[91m\u001b[0mClosest candidates are:\u001b[39m\n\u001b[91m\u001b[0m  compare_metrics(::Symbol, ::DataFrame) at In[6]:1\u001b[39m",
      "",
      "Stacktrace:",
      " [1] top-level scope at In[23]:1",
      " [2] include_string(::Function, ::Module, ::String, ::String) at ./loading.jl:1091"
     ]
    }
   ],
   "source": [
    "compare_metrics(:dist, df_hand, ['c','g'])\n",
    "compare_2_directions(:dist, ['c','g'])"
   ]
  },
  {
   "cell_type": "markdown",
   "metadata": {},
   "source": [
    "### Arc Length"
   ]
  },
  {
   "cell_type": "code",
   "execution_count": 12,
   "metadata": {},
   "outputs": [
    {
     "data": {
      "image/png": "[encoded data removed]",
      "text/plain": [
       "Figure(PyObject <Figure size 640x480 with 1 Axes>)"
      ]
     },
     "metadata": {},
     "output_type": "display_data"
    },
    {
     "name": "stdout",
     "output_type": "stream",
     "text": [
      " \n",
      " \n",
      " \n",
      " \n",
      " \n",
      " \n",
      " \n",
      " \n"
     ]
    },
    {
     "data": {
      "text/html": [
       "<table class=\"data-frame\"><thead><tr><th></th><th>trials</th><th>a</th><th>b</th><th>c</th><th>d</th><th>e</th><th>f</th><th>g</th><th>h</th></tr><tr><th></th><th>String</th><th>Float64</th><th>Float64</th><th>Float64</th><th>Float64</th><th>Float64</th><th>Float64</th><th>Float64</th><th>Float64</th></tr></thead><tbody><p>8 rows × 9 columns</p><tr><th>1</th><td>a</td><td>1.0</td><td>0.0</td><td>0.0</td><td>0.0</td><td>0.0</td><td>0.0</td><td>0.0</td><td>0.0</td></tr><tr><th>2</th><td>b</td><td>0.2833</td><td>1.0</td><td>0.0</td><td>0.0</td><td>0.0</td><td>0.0</td><td>0.0</td><td>0.0</td></tr><tr><th>3</th><td>c</td><td>0.0</td><td>0.0</td><td>1.0</td><td>0.0</td><td>0.0</td><td>0.0</td><td>0.0</td><td>0.0</td></tr><tr><th>4</th><td>d</td><td>0.0249</td><td>0.5687</td><td>0.0</td><td>1.0</td><td>0.0</td><td>0.0</td><td>0.0</td><td>0.0</td></tr><tr><th>5</th><td>e</td><td>0.1002</td><td>0.8076</td><td>0.0</td><td>0.5312</td><td>1.0</td><td>0.0</td><td>0.0</td><td>0.0</td></tr><tr><th>6</th><td>f</td><td>0.2075</td><td>0.4491</td><td>0.0</td><td>0.4565</td><td>0.3229</td><td>1.0</td><td>0.0</td><td>0.0</td></tr><tr><th>7</th><td>g</td><td>0.0</td><td>0.0</td><td>0.2262</td><td>0.0</td><td>0.0</td><td>0.0</td><td>1.0</td><td>0.0</td></tr><tr><th>8</th><td>h</td><td>0.1298</td><td>0.4485</td><td>0.0</td><td>0.3971</td><td>0.3116</td><td>0.9836</td><td>0.0</td><td>1.0</td></tr></tbody></table>"
      ],
      "text/latex": [
       "\\begin{tabular}{r|ccccccccc}\n",
       "\t& trials & a & b & c & d & e & f & g & h\\\\\n",
       "\t\\hline\n",
       "\t& String & Float64 & Float64 & Float64 & Float64 & Float64 & Float64 & Float64 & Float64\\\\\n",
       "\t\\hline\n",
       "\t1 & a & 1.0 & 0.0 & 0.0 & 0.0 & 0.0 & 0.0 & 0.0 & 0.0 \\\\\n",
       "\t2 & b & 0.2833 & 1.0 & 0.0 & 0.0 & 0.0 & 0.0 & 0.0 & 0.0 \\\\\n",
       "\t3 & c & 0.0 & 0.0 & 1.0 & 0.0 & 0.0 & 0.0 & 0.0 & 0.0 \\\\\n",
       "\t4 & d & 0.0249 & 0.5687 & 0.0 & 1.0 & 0.0 & 0.0 & 0.0 & 0.0 \\\\\n",
       "\t5 & e & 0.1002 & 0.8076 & 0.0 & 0.5312 & 1.0 & 0.0 & 0.0 & 0.0 \\\\\n",
       "\t6 & f & 0.2075 & 0.4491 & 0.0 & 0.4565 & 0.3229 & 1.0 & 0.0 & 0.0 \\\\\n",
       "\t7 & g & 0.0 & 0.0 & 0.2262 & 0.0 & 0.0 & 0.0 & 1.0 & 0.0 \\\\\n",
       "\t8 & h & 0.1298 & 0.4485 & 0.0 & 0.3971 & 0.3116 & 0.9836 & 0.0 & 1.0 \\\\\n",
       "\\end{tabular}\n"
      ],
      "text/plain": [
       "\u001b[1m8×9 DataFrame\u001b[0m\n",
       "\u001b[1m Row \u001b[0m│\u001b[1m trials \u001b[0m\u001b[1m a       \u001b[0m\u001b[1m b       \u001b[0m\u001b[1m c       \u001b[0m\u001b[1m d       \u001b[0m\u001b[1m e       \u001b[0m\u001b[1m f       \u001b[0m\u001b[1m g       \u001b[0m\u001b[1m h       \u001b[0m\n",
       "\u001b[1m     \u001b[0m│\u001b[90m String \u001b[0m\u001b[90m Float64 \u001b[0m\u001b[90m Float64 \u001b[0m\u001b[90m Float64 \u001b[0m\u001b[90m Float64 \u001b[0m\u001b[90m Float64 \u001b[0m\u001b[90m Float64 \u001b[0m\u001b[90m Float64 \u001b[0m\u001b[90m Float64 \u001b[0m\n",
       "─────┼────────────────────────────────────────────────────────────────────────────────\n",
       "   1 │ a        1.0      0.0      0.0      0.0      0.0      0.0         0.0      0.0\n",
       "   2 │ b        0.2833   1.0      0.0      0.0      0.0      0.0         0.0      0.0\n",
       "   3 │ c        0.0      0.0      1.0      0.0      0.0      0.0         0.0      0.0\n",
       "   4 │ d        0.0249   0.5687   0.0      1.0      0.0      0.0         0.0      0.0\n",
       "   5 │ e        0.1002   0.8076   0.0      0.5312   1.0      0.0         0.0      0.0\n",
       "   6 │ f        0.2075   0.4491   0.0      0.4565   0.3229   1.0         0.0      0.0\n",
       "   7 │ g        0.0      0.0      0.2262   0.0      0.0      0.0         1.0      0.0\n",
       "   8 │ h        0.1298   0.4485   0.0      0.3971   0.3116   0.9836      0.0      1.0"
      ]
     },
     "execution_count": 12,
     "metadata": {},
     "output_type": "execute_result"
    }
   ],
   "source": [
    "compare_metrics(:arc_len, df_hand)\n",
    "compare_2_directions(:arc_len)"
   ]
  },
  {
   "cell_type": "markdown",
   "metadata": {},
   "source": [
    "### Movement Efficiency\n",
    "total_distance / arc_length"
   ]
  },
  {
   "cell_type": "code",
   "execution_count": 13,
   "metadata": {},
   "outputs": [
    {
     "ename": "LoadError",
     "evalue": "\u001b[91mArgumentError: TDist: the condition ν > zero(ν) is not satisfied.\u001b[39m",
     "output_type": "error",
     "traceback": [
      "\u001b[91mArgumentError: TDist: the condition ν > zero(ν) is not satisfied.\u001b[39m",
      "",
      "Stacktrace:",
      " [1] macro expansion at /home/john/.julia/packages/Distributions/cNe2C/src/utils.jl:6 [inlined]",
      " [2] #TDist#123 at /home/john/.julia/packages/Distributions/cNe2C/src/univariate/continuous/tdist.jl:29 [inlined]",
      " [3] Distributions.TDist(::Float64) at /home/john/.julia/packages/Distributions/cNe2C/src/univariate/continuous/tdist.jl:29",
      " [4] pvalue(::UnequalVarianceTTest; tail::Symbol) at /home/john/.julia/packages/HypothesisTests/40Llk/src/t.jl:31",
      " [5] pvalue at /home/john/.julia/packages/HypothesisTests/40Llk/src/t.jl:31 [inlined]",
      " [6] compare_2_directions(::Symbol) at ./In[9]:13",
      " [7] top-level scope at In[13]:2",
      " [8] include_string(::Function, ::Module, ::String, ::String) at ./loading.jl:1091"
     ]
    }
   ],
   "source": [
    "compare_metrics(:mvt_eff, df_hand)\n",
    "compare_2_directions(:mvt_eff)"
   ]
  },
  {
   "cell_type": "markdown",
   "metadata": {},
   "source": [
    "### Max Error"
   ]
  },
  {
   "cell_type": "code",
   "execution_count": 14,
   "metadata": {},
   "outputs": [
    {
     "data": {
      "image/png": "[encoded data removed]",
      "text/plain": [
       "Figure(PyObject <Figure size 640x480 with 1 Axes>)"
      ]
     },
     "metadata": {},
     "output_type": "display_data"
    },
    {
     "name": "stdout",
     "output_type": "stream",
     "text": [
      " \n",
      " \n",
      " \n",
      " \n",
      " \n",
      " \n",
      " \n",
      " \n"
     ]
    },
    {
     "data": {
      "text/html": [
       "<table class=\"data-frame\"><thead><tr><th></th><th>trials</th><th>a</th><th>b</th><th>c</th><th>d</th><th>e</th><th>f</th><th>g</th><th>h</th></tr><tr><th></th><th>String</th><th>Float64</th><th>Float64</th><th>Float64</th><th>Float64</th><th>Float64</th><th>Float64</th><th>Float64</th><th>Float64</th></tr></thead><tbody><p>8 rows × 9 columns</p><tr><th>1</th><td>a</td><td>1.0</td><td>0.0</td><td>0.0</td><td>0.0</td><td>0.0</td><td>0.0</td><td>0.0</td><td>0.0</td></tr><tr><th>2</th><td>b</td><td>0.4113</td><td>1.0</td><td>0.0</td><td>0.0</td><td>0.0</td><td>0.0</td><td>0.0</td><td>0.0</td></tr><tr><th>3</th><td>c</td><td>0.0137</td><td>0.1496</td><td>1.0</td><td>0.0</td><td>0.0</td><td>0.0</td><td>0.0</td><td>0.0</td></tr><tr><th>4</th><td>d</td><td>0.1254</td><td>0.5735</td><td>0.3475</td><td>1.0</td><td>0.0</td><td>0.0</td><td>0.0</td><td>0.0</td></tr><tr><th>5</th><td>e</td><td>0.0802</td><td>0.4468</td><td>0.4686</td><td>0.831</td><td>1.0</td><td>0.0</td><td>0.0</td><td>0.0</td></tr><tr><th>6</th><td>f</td><td>0.3577</td><td>0.1792</td><td>0.0038</td><td>0.041</td><td>0.0242</td><td>1.0</td><td>0.0</td><td>0.0</td></tr><tr><th>7</th><td>g</td><td>0.0053</td><td>0.2413</td><td>0.5532</td><td>0.5865</td><td>0.7787</td><td>0.0004</td><td>1.0</td><td>0.0</td></tr><tr><th>8</th><td>h</td><td>0.402</td><td>0.7088</td><td>0.0328</td><td>0.2631</td><td>0.1753</td><td>0.0511</td><td>0.0183</td><td>1.0</td></tr></tbody></table>"
      ],
      "text/latex": [
       "\\begin{tabular}{r|ccccccccc}\n",
       "\t& trials & a & b & c & d & e & f & g & h\\\\\n",
       "\t\\hline\n",
       "\t& String & Float64 & Float64 & Float64 & Float64 & Float64 & Float64 & Float64 & Float64\\\\\n",
       "\t\\hline\n",
       "\t1 & a & 1.0 & 0.0 & 0.0 & 0.0 & 0.0 & 0.0 & 0.0 & 0.0 \\\\\n",
       "\t2 & b & 0.4113 & 1.0 & 0.0 & 0.0 & 0.0 & 0.0 & 0.0 & 0.0 \\\\\n",
       "\t3 & c & 0.0137 & 0.1496 & 1.0 & 0.0 & 0.0 & 0.0 & 0.0 & 0.0 \\\\\n",
       "\t4 & d & 0.1254 & 0.5735 & 0.3475 & 1.0 & 0.0 & 0.0 & 0.0 & 0.0 \\\\\n",
       "\t5 & e & 0.0802 & 0.4468 & 0.4686 & 0.831 & 1.0 & 0.0 & 0.0 & 0.0 \\\\\n",
       "\t6 & f & 0.3577 & 0.1792 & 0.0038 & 0.041 & 0.0242 & 1.0 & 0.0 & 0.0 \\\\\n",
       "\t7 & g & 0.0053 & 0.2413 & 0.5532 & 0.5865 & 0.7787 & 0.0004 & 1.0 & 0.0 \\\\\n",
       "\t8 & h & 0.402 & 0.7088 & 0.0328 & 0.2631 & 0.1753 & 0.0511 & 0.0183 & 1.0 \\\\\n",
       "\\end{tabular}\n"
      ],
      "text/plain": [
       "\u001b[1m8×9 DataFrame\u001b[0m\n",
       "\u001b[1m Row \u001b[0m│\u001b[1m trials \u001b[0m\u001b[1m a       \u001b[0m\u001b[1m b       \u001b[0m\u001b[1m c       \u001b[0m\u001b[1m d       \u001b[0m\u001b[1m e       \u001b[0m\u001b[1m f       \u001b[0m\u001b[1m g       \u001b[0m\u001b[1m h       \u001b[0m\n",
       "\u001b[1m     \u001b[0m│\u001b[90m String \u001b[0m\u001b[90m Float64 \u001b[0m\u001b[90m Float64 \u001b[0m\u001b[90m Float64 \u001b[0m\u001b[90m Float64 \u001b[0m\u001b[90m Float64 \u001b[0m\u001b[90m Float64 \u001b[0m\u001b[90m Float64 \u001b[0m\u001b[90m Float64 \u001b[0m\n",
       "─────┼────────────────────────────────────────────────────────────────────────────────\n",
       "   1 │ a        1.0      0.0      0.0      0.0      0.0      0.0      0.0         0.0\n",
       "   2 │ b        0.4113   1.0      0.0      0.0      0.0      0.0      0.0         0.0\n",
       "   3 │ c        0.0137   0.1496   1.0      0.0      0.0      0.0      0.0         0.0\n",
       "   4 │ d        0.1254   0.5735   0.3475   1.0      0.0      0.0      0.0         0.0\n",
       "   5 │ e        0.0802   0.4468   0.4686   0.831    1.0      0.0      0.0         0.0\n",
       "   6 │ f        0.3577   0.1792   0.0038   0.041    0.0242   1.0      0.0         0.0\n",
       "   7 │ g        0.0053   0.2413   0.5532   0.5865   0.7787   0.0004   1.0         0.0\n",
       "   8 │ h        0.402    0.7088   0.0328   0.2631   0.1753   0.0511   0.0183      1.0"
      ]
     },
     "execution_count": 14,
     "metadata": {},
     "output_type": "execute_result"
    }
   ],
   "source": [
    "compare_metrics(:max_err, df_hand)\n",
    "compare_2_directions(:max_err)"
   ]
  },
  {
   "cell_type": "markdown",
   "metadata": {},
   "source": [
    "### Translational Frechet Distance"
   ]
  },
  {
   "cell_type": "code",
   "execution_count": 15,
   "metadata": {},
   "outputs": [
    {
     "data": {
      "image/png": "[encoded data removed]",
      "text/plain": [
       "Figure(PyObject <Figure size 640x480 with 1 Axes>)"
      ]
     },
     "metadata": {},
     "output_type": "display_data"
    },
    {
     "name": "stdout",
     "output_type": "stream",
     "text": [
      " \n",
      " \n",
      " \n",
      " \n",
      " \n",
      " \n",
      " \n",
      " \n"
     ]
    },
    {
     "data": {
      "text/html": [
       "<table class=\"data-frame\"><thead><tr><th></th><th>trials</th><th>a</th><th>b</th><th>c</th><th>d</th><th>e</th><th>f</th><th>g</th><th>h</th></tr><tr><th></th><th>String</th><th>Float64</th><th>Float64</th><th>Float64</th><th>Float64</th><th>Float64</th><th>Float64</th><th>Float64</th><th>Float64</th></tr></thead><tbody><p>8 rows × 9 columns</p><tr><th>1</th><td>a</td><td>1.0</td><td>0.0</td><td>0.0</td><td>0.0</td><td>0.0</td><td>0.0</td><td>0.0</td><td>0.0</td></tr><tr><th>2</th><td>b</td><td>0.5375</td><td>1.0</td><td>0.0</td><td>0.0</td><td>0.0</td><td>0.0</td><td>0.0</td><td>0.0</td></tr><tr><th>3</th><td>c</td><td>0.0006</td><td>0.0017</td><td>1.0</td><td>0.0</td><td>0.0</td><td>0.0</td><td>0.0</td><td>0.0</td></tr><tr><th>4</th><td>d</td><td>0.0372</td><td>0.4518</td><td>0.0033</td><td>1.0</td><td>0.0</td><td>0.0</td><td>0.0</td><td>0.0</td></tr><tr><th>5</th><td>e</td><td>0.0477</td><td>0.3759</td><td>0.0047</td><td>0.7981</td><td>1.0</td><td>0.0</td><td>0.0</td><td>0.0</td></tr><tr><th>6</th><td>f</td><td>0.9925</td><td>0.532</td><td>0.0006</td><td>0.031</td><td>0.0428</td><td>1.0</td><td>0.0</td><td>0.0</td></tr><tr><th>7</th><td>g</td><td>0.0001</td><td>0.0026</td><td>0.1768</td><td>0.0031</td><td>0.0083</td><td>0.0001</td><td>1.0</td><td>0.0</td></tr><tr><th>8</th><td>h</td><td>0.7043</td><td>0.7376</td><td>0.0008</td><td>0.1417</td><td>0.1305</td><td>0.6952</td><td>0.0002</td><td>1.0</td></tr></tbody></table>"
      ],
      "text/latex": [
       "\\begin{tabular}{r|ccccccccc}\n",
       "\t& trials & a & b & c & d & e & f & g & h\\\\\n",
       "\t\\hline\n",
       "\t& String & Float64 & Float64 & Float64 & Float64 & Float64 & Float64 & Float64 & Float64\\\\\n",
       "\t\\hline\n",
       "\t1 & a & 1.0 & 0.0 & 0.0 & 0.0 & 0.0 & 0.0 & 0.0 & 0.0 \\\\\n",
       "\t2 & b & 0.5375 & 1.0 & 0.0 & 0.0 & 0.0 & 0.0 & 0.0 & 0.0 \\\\\n",
       "\t3 & c & 0.0006 & 0.0017 & 1.0 & 0.0 & 0.0 & 0.0 & 0.0 & 0.0 \\\\\n",
       "\t4 & d & 0.0372 & 0.4518 & 0.0033 & 1.0 & 0.0 & 0.0 & 0.0 & 0.0 \\\\\n",
       "\t5 & e & 0.0477 & 0.3759 & 0.0047 & 0.7981 & 1.0 & 0.0 & 0.0 & 0.0 \\\\\n",
       "\t6 & f & 0.9925 & 0.532 & 0.0006 & 0.031 & 0.0428 & 1.0 & 0.0 & 0.0 \\\\\n",
       "\t7 & g & 0.0001 & 0.0026 & 0.1768 & 0.0031 & 0.0083 & 0.0001 & 1.0 & 0.0 \\\\\n",
       "\t8 & h & 0.7043 & 0.7376 & 0.0008 & 0.1417 & 0.1305 & 0.6952 & 0.0002 & 1.0 \\\\\n",
       "\\end{tabular}\n"
      ],
      "text/plain": [
       "\u001b[1m8×9 DataFrame\u001b[0m\n",
       "\u001b[1m Row \u001b[0m│\u001b[1m trials \u001b[0m\u001b[1m a       \u001b[0m\u001b[1m b       \u001b[0m\u001b[1m c       \u001b[0m\u001b[1m d       \u001b[0m\u001b[1m e       \u001b[0m\u001b[1m f       \u001b[0m\u001b[1m g       \u001b[0m\u001b[1m h       \u001b[0m\n",
       "\u001b[1m     \u001b[0m│\u001b[90m String \u001b[0m\u001b[90m Float64 \u001b[0m\u001b[90m Float64 \u001b[0m\u001b[90m Float64 \u001b[0m\u001b[90m Float64 \u001b[0m\u001b[90m Float64 \u001b[0m\u001b[90m Float64 \u001b[0m\u001b[90m Float64 \u001b[0m\u001b[90m Float64 \u001b[0m\n",
       "─────┼────────────────────────────────────────────────────────────────────────────────\n",
       "   1 │ a        1.0      0.0      0.0      0.0      0.0      0.0      0.0         0.0\n",
       "   2 │ b        0.5375   1.0      0.0      0.0      0.0      0.0      0.0         0.0\n",
       "   3 │ c        0.0006   0.0017   1.0      0.0      0.0      0.0      0.0         0.0\n",
       "   4 │ d        0.0372   0.4518   0.0033   1.0      0.0      0.0      0.0         0.0\n",
       "   5 │ e        0.0477   0.3759   0.0047   0.7981   1.0      0.0      0.0         0.0\n",
       "   6 │ f        0.9925   0.532    0.0006   0.031    0.0428   1.0      0.0         0.0\n",
       "   7 │ g        0.0001   0.0026   0.1768   0.0031   0.0083   0.0001   1.0         0.0\n",
       "   8 │ h        0.7043   0.7376   0.0008   0.1417   0.1305   0.6952   0.0002      1.0"
      ]
     },
     "execution_count": 15,
     "metadata": {},
     "output_type": "execute_result"
    }
   ],
   "source": [
    "compare_metrics(:t_fd, df_hand)\n",
    "compare_2_directions(:t_fd)"
   ]
  },
  {
   "cell_type": "markdown",
   "metadata": {},
   "source": [
    "### Total Area Between Curves\n",
    "Between object path and target line"
   ]
  },
  {
   "cell_type": "code",
   "execution_count": 16,
   "metadata": {},
   "outputs": [
    {
     "ename": "LoadError",
     "evalue": "\u001b[91mPyError ($(Expr(:escape, :(ccall(#= /home/john/.julia/packages/PyCall/tqyST/src/pyfncall.jl:43 =# @pysym(:PyObject_Call), PyPtr, (PyPtr, PyPtr, PyPtr), o, pyargsptr, kw))))) <class 'TypeError'>\u001b[39m\n\u001b[91mTypeError(\"unsupported operand type(s) for +: 'float' and 'PyCall.jlwrap'\")\u001b[39m\n\u001b[91m  File \"/home/john/Applications/anaconda3/lib/python3.8/site-packages/matplotlib/pyplot.py\", line 2517, in boxplot\u001b[39m\n\u001b[91m    return gca().boxplot(\u001b[39m\n\u001b[91m  File \"/home/john/Applications/anaconda3/lib/python3.8/site-packages/matplotlib/__init__.py\", line 1438, in inner\u001b[39m\n\u001b[91m    return func(ax, *map(sanitize_sequence, args), **kwargs)\u001b[39m\n\u001b[91m  File \"/home/john/Applications/anaconda3/lib/python3.8/site-packages/matplotlib/axes/_axes.py\", line 3683, in boxplot\u001b[39m\n\u001b[91m    bxpstats = cbook.boxplot_stats(x, whis=whis, bootstrap=bootstrap,\u001b[39m\n\u001b[91m  File \"/home/john/Applications/anaconda3/lib/python3.8/site-packages/matplotlib/cbook/__init__.py\", line 1177, in boxplot_stats\u001b[39m\n\u001b[91m    stats['mean'] = np.mean(x)\u001b[39m\n\u001b[91m  File \"<__array_function__ internals>\", line 5, in mean\u001b[39m\n\u001b[91m  File \"/home/john/Applications/anaconda3/lib/python3.8/site-packages/numpy/core/fromnumeric.py\", line 3372, in mean\u001b[39m\n\u001b[91m    return _methods._mean(a, axis=axis, dtype=dtype,\u001b[39m\n\u001b[91m  File \"/home/john/Applications/anaconda3/lib/python3.8/site-packages/numpy/core/_methods.py\", line 160, in _mean\u001b[39m\n\u001b[91m    ret = umr_sum(arr, axis, dtype, out, keepdims)\u001b[39m\n",
     "output_type": "error",
     "traceback": [
      "\u001b[91mPyError ($(Expr(:escape, :(ccall(#= /home/john/.julia/packages/PyCall/tqyST/src/pyfncall.jl:43 =# @pysym(:PyObject_Call), PyPtr, (PyPtr, PyPtr, PyPtr), o, pyargsptr, kw))))) <class 'TypeError'>\u001b[39m\n\u001b[91mTypeError(\"unsupported operand type(s) for +: 'float' and 'PyCall.jlwrap'\")\u001b[39m\n\u001b[91m  File \"/home/john/Applications/anaconda3/lib/python3.8/site-packages/matplotlib/pyplot.py\", line 2517, in boxplot\u001b[39m\n\u001b[91m    return gca().boxplot(\u001b[39m\n\u001b[91m  File \"/home/john/Applications/anaconda3/lib/python3.8/site-packages/matplotlib/__init__.py\", line 1438, in inner\u001b[39m\n\u001b[91m    return func(ax, *map(sanitize_sequence, args), **kwargs)\u001b[39m\n\u001b[91m  File \"/home/john/Applications/anaconda3/lib/python3.8/site-packages/matplotlib/axes/_axes.py\", line 3683, in boxplot\u001b[39m\n\u001b[91m    bxpstats = cbook.boxplot_stats(x, whis=whis, bootstrap=bootstrap,\u001b[39m\n\u001b[91m  File \"/home/john/Applications/anaconda3/lib/python3.8/site-packages/matplotlib/cbook/__init__.py\", line 1177, in boxplot_stats\u001b[39m\n\u001b[91m    stats['mean'] = np.mean(x)\u001b[39m\n\u001b[91m  File \"<__array_function__ internals>\", line 5, in mean\u001b[39m\n\u001b[91m  File \"/home/john/Applications/anaconda3/lib/python3.8/site-packages/numpy/core/fromnumeric.py\", line 3372, in mean\u001b[39m\n\u001b[91m    return _methods._mean(a, axis=axis, dtype=dtype,\u001b[39m\n\u001b[91m  File \"/home/john/Applications/anaconda3/lib/python3.8/site-packages/numpy/core/_methods.py\", line 160, in _mean\u001b[39m\n\u001b[91m    ret = umr_sum(arr, axis, dtype, out, keepdims)\u001b[39m\n",
      "",
      "Stacktrace:",
      " [1] pyerr_check at /home/john/.julia/packages/PyCall/tqyST/src/exception.jl:62 [inlined]",
      " [2] pyerr_check at /home/john/.julia/packages/PyCall/tqyST/src/exception.jl:66 [inlined]",
      " [3] _handle_error(::String) at /home/john/.julia/packages/PyCall/tqyST/src/exception.jl:83",
      " [4] macro expansion at /home/john/.julia/packages/PyCall/tqyST/src/exception.jl:97 [inlined]",
      " [5] #109 at /home/john/.julia/packages/PyCall/tqyST/src/pyfncall.jl:43 [inlined]",
      " [6] disable_sigint at ./c.jl:446 [inlined]",
      " [7] __pycall! at /home/john/.julia/packages/PyCall/tqyST/src/pyfncall.jl:42 [inlined]",
      " [8] _pycall!(::PyObject, ::PyObject, ::Tuple{Array{Any,1}}, ::Int64, ::Ptr{Nothing}) at /home/john/.julia/packages/PyCall/tqyST/src/pyfncall.jl:29",
      " [9] _pycall! at /home/john/.julia/packages/PyCall/tqyST/src/pyfncall.jl:11 [inlined]",
      " [10] #pycall#115 at /home/john/.julia/packages/PyCall/tqyST/src/pyfncall.jl:83 [inlined]",
      " [11] pycall at /home/john/.julia/packages/PyCall/tqyST/src/pyfncall.jl:83 [inlined]",
      " [12] boxplot(::Array{Any,1}; kws::Base.Iterators.Pairs{Union{},Union{},Tuple{},NamedTuple{(),Tuple{}}}) at /home/john/.julia/packages/PyPlot/XHEG0/src/PyPlot.jl:177",
      " [13] boxplot at /home/john/.julia/packages/PyPlot/XHEG0/src/PyPlot.jl:174 [inlined]",
      " [14] compare_metrics(::Symbol, ::DataFrame) at ./In[6]:10",
      " [15] top-level scope at In[16]:1",
      " [16] include_string(::Function, ::Module, ::String, ::String) at ./loading.jl:1091"
     ]
    }
   ],
   "source": [
    "compare_metrics(:area_btwn, df_hand)\n",
    "compare_2_directions(:area_btwn)"
   ]
  },
  {
   "cell_type": "markdown",
   "metadata": {},
   "source": [
    "### Max Area Region\n",
    "The area between the curves of a scrolling window of about 20% total_distance width."
   ]
  },
  {
   "cell_type": "code",
   "execution_count": 17,
   "metadata": {},
   "outputs": [
    {
     "ename": "LoadError",
     "evalue": "\u001b[91mArgumentError: TDist: the condition ν > zero(ν) is not satisfied.\u001b[39m",
     "output_type": "error",
     "traceback": [
      "\u001b[91mArgumentError: TDist: the condition ν > zero(ν) is not satisfied.\u001b[39m",
      "",
      "Stacktrace:",
      " [1] macro expansion at /home/john/.julia/packages/Distributions/cNe2C/src/utils.jl:6 [inlined]",
      " [2] #TDist#123 at /home/john/.julia/packages/Distributions/cNe2C/src/univariate/continuous/tdist.jl:29 [inlined]",
      " [3] Distributions.TDist(::Float64) at /home/john/.julia/packages/Distributions/cNe2C/src/univariate/continuous/tdist.jl:29",
      " [4] pvalue(::UnequalVarianceTTest; tail::Symbol) at /home/john/.julia/packages/HypothesisTests/40Llk/src/t.jl:31",
      " [5] pvalue at /home/john/.julia/packages/HypothesisTests/40Llk/src/t.jl:31 [inlined]",
      " [6] compare_2_directions(::Symbol) at ./In[9]:13",
      " [7] top-level scope at In[17]:2",
      " [8] include_string(::Function, ::Module, ::String, ::String) at ./loading.jl:1091"
     ]
    }
   ],
   "source": [
    "compare_metrics(:max_a_reg, df_hand)\n",
    "compare_2_directions(:max_a_reg)"
   ]
  },
  {
   "cell_type": "markdown",
   "metadata": {},
   "source": [
    "### Max Area Location\n",
    "The location of the center of the max area region, represented as a percentage along the full target line (that is, some percentage of 0.5)."
   ]
  },
  {
   "cell_type": "code",
   "execution_count": 18,
   "metadata": {},
   "outputs": [
    {
     "ename": "LoadError",
     "evalue": "\u001b[91mArgumentError: TDist: the condition ν > zero(ν) is not satisfied.\u001b[39m",
     "output_type": "error",
     "traceback": [
      "\u001b[91mArgumentError: TDist: the condition ν > zero(ν) is not satisfied.\u001b[39m",
      "",
      "Stacktrace:",
      " [1] macro expansion at /home/john/.julia/packages/Distributions/cNe2C/src/utils.jl:6 [inlined]",
      " [2] #TDist#123 at /home/john/.julia/packages/Distributions/cNe2C/src/univariate/continuous/tdist.jl:29 [inlined]",
      " [3] Distributions.TDist(::Float64) at /home/john/.julia/packages/Distributions/cNe2C/src/univariate/continuous/tdist.jl:29",
      " [4] pvalue(::UnequalVarianceTTest; tail::Symbol) at /home/john/.julia/packages/HypothesisTests/40Llk/src/t.jl:31",
      " [5] pvalue at /home/john/.julia/packages/HypothesisTests/40Llk/src/t.jl:31 [inlined]",
      " [6] compare_2_directions(::Symbol) at ./In[9]:13",
      " [7] top-level scope at In[18]:2",
      " [8] include_string(::Function, ::Module, ::String, ::String) at ./loading.jl:1091"
     ]
    }
   ],
   "source": [
    "compare_metrics(:max_a_loc, df_hand)\n",
    "compare_2_directions(:max_a_loc)"
   ]
  },
  {
   "cell_type": "markdown",
   "metadata": {},
   "source": [
    "-----"
   ]
  },
  {
   "cell_type": "markdown",
   "metadata": {},
   "source": [
    "# Clustering for Symmetry"
   ]
  },
  {
   "cell_type": "code",
   "execution_count": 19,
   "metadata": {},
   "outputs": [],
   "source": [
    "using Clustering\n",
    "\n",
    "# use kmeans or hierarchical clustering single linkage?"
   ]
  },
  {
   "cell_type": "code",
   "execution_count": 20,
   "metadata": {},
   "outputs": [
    {
     "data": {
      "text/plain": [
       "4-element Array{Int64,1}:\n",
       " 1\n",
       " 3\n",
       " 4\n",
       " 5"
      ]
     },
     "execution_count": 20,
     "metadata": {},
     "output_type": "execute_result"
    }
   ],
   "source": [
    "test = [1, 2, 3, 4, 5]\n",
    "t = 2\n",
    "i = findall(x->x!=t, test)"
   ]
  }
 ],
 "metadata": {
  "kernelspec": {
   "display_name": "Julia 1.5.4",
   "language": "julia",
   "name": "julia-1.5"
  },
  "language_info": {
   "file_extension": ".jl",
   "mimetype": "application/julia",
   "name": "julia",
   "version": "1.5.4"
  }
 },
 "nbformat": 4,
 "nbformat_minor": 4
}
